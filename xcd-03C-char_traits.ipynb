{
  "cells": [
    {
      "cell_type": "markdown",
      "metadata": {
        "cell_id": "5e1f0c0322984fd39a82a8ff069b7d4d",
        "deepnote_cell_height": 81.953125,
        "deepnote_cell_type": "markdown",
        "tags": []
      },
      "source": "# 3C: Traits of Fictional Characters "
    },
    {
      "cell_type": "code",
      "execution_count": null,
      "metadata": {
        "cell_id": "3d56c3f598a846679d11b13ce4c4740c",
        "deepnote_cell_type": "code",
        "deepnote_to_be_reexecuted": false,
        "execution_millis": 3192,
        "execution_start": 1662165673706,
        "output_cleared": true,
        "source_hash": "f00f6f4c",
        "tags": [],
        "trusted": true
      },
      "outputs": [],
      "source": "# This code will load the R packages we will use\nsuppressPackageStartupMessages({\n    library(coursekata)\n})\n\n# This code will make sure the middle rows/columns don't get cut out (ellipsized) when you \n# print out a really large data frame (note: you can adjust the values for max rows/cols)\noptions(repr.matrix.max.rows=900, repr.matrix.max.cols=100)\n\n# Load the data frame\ncharacters <- read.csv(\"https://docs.google.com/spreadsheets/d/e/2PACX-1vQk_n4m-VBCD7CtcpB1kOsiNDLrPmEOEtlOoaKwDhogE_YeGEW5PYTaOtZaqypEgHRFGWsZ0pdYvt_A/pub?gid=0&single=true&output=csv\")"
    },
    {
      "cell_type": "markdown",
      "metadata": {
        "cell_id": "5717d5a9858a4dc9b84dbe3e1d9ad482",
        "deepnote_cell_height": 682.21875,
        "deepnote_cell_type": "markdown",
        "tags": []
      },
      "source": "## Favorite Fictional Characters\n\n<img src=\"https://i.postimg.cc/s34kFsZr/xcd-03-B-fictional-chars.png\" alt=\"A collage of the faces of various fictional characters\" width = 30%>\n\nThere are many popular fictional universes out there with their own unique set of fictional characters with a wide range of personality types. Some characters are known for being quite likeable, and some characters are known for being unlikeable, or even despised. \n\nWho are some of your favorite fictional characters (i.e., from any of your favorite books, movies, TV shows, or games)? What is it about those characters that you like?\n\nWho are some unlikeable characters? What makes them unlikeable?\n\nToday we'll explore and explain the variation in character likeability."
    },
    {
      "cell_type": "markdown",
      "metadata": {
        "cell_id": "e79ca85b24264e919585b367a9d76155",
        "deepnote_cell_height": 61.953125,
        "deepnote_cell_type": "markdown",
        "tags": []
      },
      "source": "### Motivating Question: What traits make a character more likeable?"
    },
    {
      "cell_type": "markdown",
      "metadata": {
        "cell_id": "a3098e64031147159314d35189d89461",
        "deepnote_cell_type": "markdown",
        "tags": []
      },
      "source": "### The Dataset\n\n**Description:** The `characters` data frame contains characters from various fictional universes. More than [3 million volunteers from the internet](https://openpsychometrics.org/tests/characters/) rated these characters on various traits by using a sliding scale. For example, the character Mushu (from Disney's Mulan), is depicted below being rated on a scale from zero, rude, to 100, respectful.\n\n<img src=\"https://i.postimg.cc/tXVg4SjZ/rating-characters.png\" alt=\"example of how people rated a character with a slider\" width = 40%>\n\n##### Variable Descriptions\n\n- `char_id` The character ID.\n- `char_name` The character's name.\t\n- `uni_id` The universe ID for the book, game, movie, or TV show.\n- `uni_name` The universe name of the book, game, movie, or TV show.\n- `gender` The gender of the character (M=Male, F=Female, NB=NonBinary).\n- `abstract` The average rating of how abstract (vs concrete) the character is on a scale of 0-100 (0-concrete, 100-abstract).\n- `agreeable` The average rating of how agreeable (vs stubborn) the character is on a scale of 0-100 (0-stubborn, 100-agreeable).\t\n- `anxious` The average rating of how anxious (vs calm) the character is on a scale of 0-100 (0-calm, 100-anxious).\n- `attractive` The average rating of how attractive (vs repulsive) the character is on a scale of 0-100 (0-repulsive, 100-attractive).\t\n- `beautiful` The average rating of how beautiful (vs ugly) the character is on a scale of 0-100 (0-ugly, 100-beautiful).\t\n- `chaotic` The average rating of how chaotic (vs orderly) the character is on a scale of 0-100 (0-orderly, 100-chaotic).\n- `chill` The average rating of how chill (vs offended) the character is on a scale of 0-100 (0-offended, 100-chill).\t\n- `cool` The average rating of how cool (vs dorky) the character is on a scale of 0-100 (0-dorky, 100-cool).\t\n- `decisive` The average rating of how decisive (vs hesitant) the character is on a scale of 0-100 (0-hesitant, 100-decisive).\t\n- `emotional` The average rating of how emotional (vs unemotional) the character is on a scale of 0-100 (0-unemotional, 100-emotional).\t\n- `extrovert` The average rating of how extroverted (vs introverted) the character is on a scale of 0-100 (0-introvert, 100-extrovert).\t\n- `feminine` The average rating of how feminine (vs masculine) the character is on a scale of 0-100 (0-masculine, 100-feminine).\t\n- `future_focused` The average rating of how future-focused (vs present-focused) the character is on a scale of 0-100 (0-present-focused, 100-future-focused).\t\n- `loveable` The average rating of how loveable (vs punchable) the character is on a scale of 0-100 (0-punchable, 100-loveable).\n- `messy` The average rating of how messy (vs neat) the character is on a scale of 0-100 (0-neat, 100-messy).\t\t\n- `moody` The average rating of how moody (vs stable) the character is on a scale of 0-100 (0-stable, 100-moody).\t\t\n- `open_minded` The average rating of how open-minded (vs close-minded) the character is on a scale of 0-100 (0-close-minded, 100-open-minded).\n- `reasoned` The average rating of how reasoned (vs instinctual) the character is on a scale of 0-100 (0-instinctual, 100-reasoned).\n- `respectful` The average rating of how respectful (vs rude) the character is on a scale of 0-100 (0-rude, 100-respectful).\n- `self_assured` The average rating of how self-assured (vs self-conscious) the character is on a scale of 0-100 (0-self-conscious, 100-self-assured).\n- `self_disciplined` The average rating of how self-disciplined (vs disorganized) the character is on a scale of 0-100 (0-disorganized, 100-self-disciplined).\t\n- `tall` The average rating of how tall (vs short) the character is on a scale of 0-100 (0-short, 100-tall).\t\n- `trusting` The average rating of how trusting (vs suspicious) the character is on a scale of 0-100 (0-suspicious, 100-trusting).\n\n\n##### Data Source: \n\nOriginally collected at [Open Psychometrics](https://openpsychometrics.org/tests/characters/) made available by Tanya Shapiro as a [Tidy Tuesday data set](https://github.com/rfordatascience/tidytuesday/tree/master/data/2022/2022-08-16)."
    },
    {
      "cell_type": "markdown",
      "metadata": {
        "cell_id": "ed52d72ece8f435a80261f51c44f3799",
        "deepnote_cell_height": 61.953125,
        "deepnote_cell_type": "markdown",
        "tags": []
      },
      "source": "### 1.0 - Explore the Data Frame"
    },
    {
      "cell_type": "markdown",
      "metadata": {
        "cell_id": "1cb1a827ff944d30997c8c9317afbfd5",
        "deepnote_cell_height": 133.140625,
        "deepnote_cell_type": "markdown",
        "tags": []
      },
      "source": "#### Free Play\n\n**1.1:** Let's just start by getting familiar with the data we will be working with. Run the code below to get a glimpse at the data frame. Then, take a minute to freely explore the data. Look at anything interesting to you, or that you are curious about, or anything you think we might want to know about the data frame, the cases, or the variables before we start modeling anything."
    },
    {
      "cell_type": "code",
      "execution_count": null,
      "metadata": {
        "cell_id": "7abd91e93e134db3b29cdeda4da85917",
        "deepnote_cell_type": "code",
        "deepnote_to_be_reexecuted": false,
        "execution_millis": 45,
        "execution_start": 1662165676927,
        "output_cleared": true,
        "source_hash": "741887d0",
        "tags": [],
        "trusted": true
      },
      "outputs": [],
      "source": "# Check out the data\nhead(characters)"
    },
    {
      "cell_type": "markdown",
      "metadata": {
        "cell_id": "c94c505c9ec44f84a85b460d8331b838",
        "deepnote_cell_height": 52.359375,
        "deepnote_cell_type": "markdown",
        "tags": []
      },
      "source": "**1.2:** What questions do you have about this data set? "
    },
    {
      "cell_type": "markdown",
      "metadata": {
        "cell_id": "e3f115849ef44a0582d86e940c9ecd2a",
        "deepnote_cell_height": 110.75,
        "deepnote_cell_type": "markdown",
        "tags": []
      },
      "source": "#### Measuring Likeability\n\n**1.3--Discussion:** We are interested in modeling what predicts how likeable a character is, but there isn't a variable called \"likeable.\" Which variables in the data frame might be a good measure for this trait?"
    },
    {
      "cell_type": "markdown",
      "metadata": {
        "cell_id": "012ca35521f74dfcaf5c7cc6c06b9296",
        "deepnote_cell_height": 169.921875,
        "deepnote_cell_type": "markdown",
        "tags": []
      },
      "source": "**1.4:** One variable we might consider as a measure of a character's likeability is the variable `loveable`. Let's pursue that as our outcome variable together first, then afterwards, you can pursue some models using any of the other variables you are interested in as well.\n\nSo, before we develop any complex models, let's start by getting a little bit of information about `loveable`.\n\nTake a look at the visualization and empty model for `loveable` below. Describe the distribution and interpret the empty model."
    },
    {
      "cell_type": "code",
      "execution_count": null,
      "metadata": {
        "cell_id": "b8a76e5e89bc460f8621201a25aac32c",
        "deepnote_cell_type": "code",
        "deepnote_to_be_reexecuted": false,
        "execution_millis": 534,
        "execution_start": 1662165677165,
        "output_cleared": true,
        "source_hash": "bbf36a4d",
        "tags": [],
        "trusted": true
      },
      "outputs": [],
      "source": "# Run this code and interpet the output\n\nempty_model <- lm(loveable ~ NULL, data = characters)\nempty_model\n\ngf_histogram(~loveable, data = characters) %>%\ngf_model(empty_model) %>%\ngf_boxplot(width = 5)"
    },
    {
      "cell_type": "markdown",
      "metadata": {
        "cell_id": "b4866cd3bc0645579fdf0ea00df0beae",
        "deepnote_cell_height": 97.140625,
        "deepnote_cell_type": "markdown",
        "tags": []
      },
      "source": "**1.5--Discussion:** Take a look at the 50 most/least `loveable` characters. Does anything stand out about the two groups of characters? Do the characters in each group have anything in common? As you look over the data, try to come up with a few theories about what might explain variation in `loveable`."
    },
    {
      "cell_type": "code",
      "execution_count": null,
      "metadata": {
        "allow_embed": false,
        "cell_id": "d88c60d47aa949c1b735a554d26d3a02",
        "deepnote_cell_type": "code",
        "deepnote_to_be_reexecuted": false,
        "execution_millis": 437,
        "execution_start": 1662165677677,
        "output_cleared": true,
        "source_hash": "2cd22426",
        "tags": [],
        "trusted": true
      },
      "outputs": [],
      "source": "# The 50 most loveable characters\nhead(arrange(characters, desc(loveable)), 50)\n\n# The 50 least loveable characters\nhead(arrange(characters, loveable), 50)"
    },
    {
      "cell_type": "markdown",
      "metadata": {
        "cell_id": "6a4413b104f849a7a6281d6e13f89e3b",
        "deepnote_cell_height": 62.421875,
        "deepnote_cell_type": "markdown",
        "tags": []
      },
      "source": "### 2.0 - Explaining Variation in `loveable`"
    },
    {
      "cell_type": "markdown",
      "metadata": {
        "cell_id": "cd8bec9cd9b54bfb9992f0556f909d0e",
        "deepnote_cell_height": 361.265625,
        "deepnote_cell_type": "markdown",
        "tags": []
      },
      "source": "**2.1:** We are going to compare a few models to see which one(s) might do a better job helping us predict (i.e., explain variation in) `loveable`. \n\nWe have developed a few theories and put them into word equations below:\n\n> 1. **loveable = tall + other stuff**\n> 2. **loveable = moody + other stuff**\n> 3. **loveable = open_minded + other stuff**\n\nFor each word equation above, indicate whether you predict there will be:\n\n- a positive relationship (as x goes up, y (loveable) goes up)\n- a negative relationship (as x goes up, y (loveable) goes down)\n- some other relationship\n- no relationship"
    },
    {
      "cell_type": "markdown",
      "metadata": {
        "cell_id": "1ae814819e8d4f0e93db27f38ad84d4c",
        "deepnote_cell_height": 110.75,
        "deepnote_cell_type": "markdown",
        "tags": []
      },
      "source": "#### Explore the Distribution\n\n**2.2:** We've set you up with some code to look at these theories in a visualization. Describe what kind of patterns you see. Does one model appear to explain more variation than the others?"
    },
    {
      "cell_type": "code",
      "execution_count": null,
      "metadata": {
        "cell_id": "111868d02cf24ebd8a0a62a24d48574e",
        "deepnote_cell_type": "code",
        "deepnote_to_be_reexecuted": false,
        "execution_millis": 1218,
        "execution_start": 1662167426649,
        "output_cleared": true,
        "source_hash": "765e3364",
        "tags": [],
        "trusted": true
      },
      "outputs": [],
      "source": "# loveable = tall + other stuff\ngf_point(loveable ~ tall, data = characters)\n\n# loveable = moody + other stuff\ngf_point(loveable ~ moody, data = characters)\n\n# loveable = open_minded + other stuff\ngf_point(loveable ~ open_minded, data = characters)"
    },
    {
      "cell_type": "markdown",
      "metadata": {
        "cell_id": "4eafe6239e2141b795c582950bb25d1e",
        "deepnote_cell_height": 366.90625,
        "deepnote_cell_type": "markdown",
        "tags": []
      },
      "source": "#### Fit and Interpret the Models\n\n**2.3:** We've also set you up with some code to fit these models. Put them into the GLM notation we have started below, and interpret the parameter estimates. Then, engage in the discussion questions below.\n\n**GLM Notation:**\n\n> - $loveable_i = b_0 + b_1(tall_i) + e_i$\n> - $loveable_i = b_0 + b_1(moody_i) + e_i$\n> - $loveable_i = b_0 + b_1(open\\_minded_i) + e_i$\n\n***Discussion Questions:***\n\nCompare the $b_1$ estimates of the three models. Why are some negative? Which model has the smallest (or largest) $b_1$ (in absolute value)? What does this suggest?\n\nAlso, compare the $b_0$ estimates of the three models. Are they similar? Different? Why is that?"
    },
    {
      "cell_type": "code",
      "execution_count": null,
      "metadata": {
        "cell_id": "3ff5c8d7e0d240ba9e26140061e0f45e",
        "deepnote_cell_type": "code",
        "deepnote_to_be_reexecuted": false,
        "execution_millis": 269,
        "execution_start": 1662165678559,
        "output_cleared": true,
        "source_hash": "9627cd59",
        "tags": [],
        "trusted": true
      },
      "outputs": [],
      "source": "# loveable = tall + other stuff\ntall_model <- lm(loveable ~ tall, data = characters)\ntall_model\n\n# loveable = moody + other stuff\nmoody_model <- lm(loveable ~ moody, data = characters)\nmoody_model\n\n# loveable = open_minded + other stuff\nopen_minded_model <- lm(loveable ~ open_minded, data = characters)\nopen_minded_model"
    },
    {
      "cell_type": "markdown",
      "metadata": {
        "cell_id": "fff46318ce144f0c91670c9bf98d9585",
        "deepnote_cell_height": 147.125,
        "deepnote_cell_type": "markdown",
        "tags": []
      },
      "source": "<div class=\"alert alert-block alert-info\">\n\n<b> <font size=\"+1\">Key Question</font></b>\n\n**2.4:**  Add the models to the visualizations and connect the parameter estimates to the model in the graph.\n\n</div>"
    },
    {
      "cell_type": "markdown",
      "metadata": {
        "cell_id": "4e14eae13fda4017a8b4ce0cb7f5ff63",
        "deepnote_cell_height": 110.75,
        "deepnote_cell_type": "markdown",
        "tags": []
      },
      "source": "#### Make Predictions with the Models\n\n**2.5:** Make some predictions with the models. For example, what does the model predict for a character who is rated as very tall (e.g., a rating of 75)? How about a character who is rated not very tall (e.g., a rating of 25)?"
    },
    {
      "cell_type": "markdown",
      "metadata": {
        "cell_id": "cddea70c331a462ab481b6abbe597bd2",
        "deepnote_cell_height": 74.75,
        "deepnote_cell_type": "markdown",
        "tags": []
      },
      "source": "**2.6:** Take a look at the character selected below (or filter for another character). How far off is the model prediction for that character?"
    },
    {
      "cell_type": "code",
      "execution_count": null,
      "metadata": {
        "cell_id": "abca30fa1d834fea8510e6a9c716fe2a",
        "deepnote_cell_type": "code",
        "deepnote_to_be_reexecuted": false,
        "execution_millis": 4,
        "execution_start": 1662165679490,
        "output_cleared": true,
        "source_hash": "25d7268",
        "tags": [],
        "trusted": true
      },
      "outputs": [],
      "source": "# Select the row for a particular character (e.g., Harry Potter)\ncharacters[characters$char_name == \"Harry Potter\", ]"
    },
    {
      "cell_type": "markdown",
      "metadata": {
        "cell_id": "cddc2d34db704d879f7a769042d873ee",
        "deepnote_cell_height": 205.515625,
        "deepnote_cell_type": "markdown",
        "tags": []
      },
      "source": "#### Evaluate the Models\n\n<div class=\"alert alert-block alert-info\">\n\n<b> <font size=\"+1\">Key Question</font></b>\n\n**2.7:** How much variation in `loveable` does each model explain? Are any of the models much better than the empty model? And, if so, which model explains the most variation in `loveable`. Use statistics to support your answer.\n\n</div>"
    },
    {
      "cell_type": "code",
      "execution_count": null,
      "metadata": {
        "cell_id": "330900cf0e1b4d56851ac423aacc8dee",
        "deepnote_cell_type": "code",
        "deepnote_to_be_reexecuted": false,
        "execution_millis": 1,
        "execution_start": 1662165679550,
        "output_cleared": true,
        "source_hash": "f17ecc1f",
        "tags": [],
        "trusted": true
      },
      "outputs": [],
      "source": "# Here are the saved model names to get you started\n\n# loveable = tall + other stuff\n# tall_model\n\n# loveable = moody + other stuff\n# moody_model\n\n# loveable = open_minded + other stuff\n# open_minded_model"
    },
    {
      "cell_type": "markdown",
      "metadata": {
        "cell_id": "59f9526c7f8c4948a2f5a220a460daad",
        "deepnote_cell_height": 61.953125,
        "deepnote_cell_type": "markdown",
        "tags": []
      },
      "source": "### 3.0 - Make Your Own Models"
    },
    {
      "cell_type": "markdown",
      "metadata": {
        "cell_id": "52c5bc31b42c49c3830c6a8386b345ab",
        "deepnote_cell_height": 124.75,
        "deepnote_cell_type": "markdown",
        "tags": []
      },
      "source": "#### Explore the Distribution\n\n**3.1:** Take a look through the data and select a character trait that you are interested in as an outcome variable. \n\nCreate a visualization to explore the distribution, and fit the empty model.\n"
    },
    {
      "cell_type": "markdown",
      "metadata": {
        "cell_id": "02d439cec05f4a00a1f13a09d2ac4949",
        "deepnote_cell_height": 133.53125,
        "deepnote_cell_type": "markdown",
        "tags": []
      },
      "source": "**3.2:** Come up with two different theories about the DGP for that variable, and write them as word equations (i.e., pick two explanatory variables).\n\n\nMake some predictions about what you might expect to find, then create visualizations to explore your hypotheses. Describe what you see. Does one model appear to explain more variation than the others?"
    },
    {
      "cell_type": "markdown",
      "metadata": {
        "cell_id": "8244fb19f3354e68b7ce50aeb51680ff",
        "deepnote_cell_height": 88.5625,
        "deepnote_cell_type": "markdown",
        "tags": []
      },
      "source": "#### Fit and Interpret the Models\n\n**3.3:** Fit your models, put them into GLM notation ($Y_i = b_0 + b_1(X_i) + e_i$), and interpret the parameter estimates."
    },
    {
      "cell_type": "markdown",
      "metadata": {
        "cell_id": "9b17a09ee92f42859d5972f1e97c3cfa",
        "deepnote_cell_height": 147.125,
        "deepnote_cell_type": "markdown",
        "tags": []
      },
      "source": "<div class=\"alert alert-block alert-info\">\n\n<b> <font size=\"+1\">Key Question</font></b>\n\n**3.4:** Add the models to your visualizations, and connect the parameter estimates to the models in the graphs.\n\n</div>"
    },
    {
      "cell_type": "markdown",
      "metadata": {
        "cell_id": "0903fabefc504474ac17c475c8cc8a4e",
        "deepnote_cell_height": 110.75,
        "deepnote_cell_type": "markdown",
        "tags": []
      },
      "source": "#### Make Predictions with the Models\n\n**3.5:** Make some predictions with the models. For example, what does the model predict for a character who is low in that trait versus a character who is high in that trait?"
    },
    {
      "cell_type": "markdown",
      "metadata": {
        "cell_id": "4c20f6463b6341e384a59cb24637accd",
        "deepnote_cell_height": 205.515625,
        "deepnote_cell_type": "markdown",
        "tags": []
      },
      "source": "#### Evaluate the Models\n\n<div class=\"alert alert-block alert-info\">\n\n<b> <font size=\"+1\">Key Question</font></b>\n\n**3.6:** How much variation in your outcome variable does each model explain? Are any of the models much better than the empty model? And, if so, which model explains the most variation in your outcome variable? Use statistics to support your answer.\n\n</div>"
    },
    {
      "cell_type": "markdown",
      "metadata": {
        "cell_id": "d8ec1649743943efb3bd04bd01179c47",
        "deepnote_cell_height": 61.953125,
        "deepnote_cell_type": "markdown",
        "tags": []
      },
      "source": "### 4.0 - BONUS: Explore A Universe"
    },
    {
      "cell_type": "markdown",
      "metadata": {
        "cell_id": "f702297d31c84cc5815c03e7c9545632",
        "deepnote_cell_height": 52.359375,
        "deepnote_cell_type": "markdown",
        "tags": []
      },
      "source": "**4.1:** Try filtering the data for a particular fictional universe that you are interested in (probably one with at least 10+ characters). "
    },
    {
      "cell_type": "code",
      "execution_count": null,
      "metadata": {
        "cell_id": "e1064adee2474123946d576e82e57a73",
        "deepnote_cell_type": "code",
        "deepnote_to_be_reexecuted": false,
        "execution_millis": 49,
        "execution_start": 1662166478596,
        "output_cleared": true,
        "source_hash": "272ddaf",
        "tags": [],
        "trusted": true
      },
      "outputs": [],
      "source": "## Just in case: Check which universes have the most/fewest characters\n# sort(tally(~uni_name, data = characters))\n"
    },
    {
      "cell_type": "markdown",
      "metadata": {
        "cell_id": "c5edd8758c05403a9116e5470ed715f5",
        "deepnote_cell_height": 74.75,
        "deepnote_cell_type": "markdown",
        "tags": []
      },
      "source": "**4.2:** How do the trends for that universe compare to the trends you found when looking at all the universes? Are the trends for those characters similar to the trends for the broader set of characters, or are they quite different? Why do you think that is?"
    }
  ],
  "metadata": {
    "deepnote": {},
    "deepnote_execution_queue": [],
    "deepnote_notebook_id": "c56a06f2d0474e2f89deb2280d568bb9",
    "kernelspec": {
      "display_name": "R",
      "language": "R",
      "name": "ir"
    },
    "language_info": {
      "codemirror_mode": "r",
      "file_extension": ".r",
      "mimetype": "text/x-r-source",
      "name": "R",
      "pygments_lexer": "r",
      "version": "4.2.2"
    },
    "nbsimplegrader": {
      "publish_config": {
        "classes": [],
        "options": {},
        "tools": []
      }
    }
  },
  "nbformat": 4,
  "nbformat_minor": 1
}